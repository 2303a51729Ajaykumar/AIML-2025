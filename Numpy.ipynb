{
  "nbformat": 4,
  "nbformat_minor": 0,
  "metadata": {
    "colab": {
      "provenance": [],
      "authorship_tag": "ABX9TyMbMd2A1X8BwofQMT1VM4H2",
      "include_colab_link": true
    },
    "kernelspec": {
      "name": "python3",
      "display_name": "Python 3"
    },
    "language_info": {
      "name": "python"
    }
  },
  "cells": [
    {
      "cell_type": "markdown",
      "metadata": {
        "id": "view-in-github",
        "colab_type": "text"
      },
      "source": [
        "<a href=\"https://colab.research.google.com/github/2303a51729Ajaykumar/AIML-2025/blob/main/Numpy.ipynb\" target=\"_parent\"><img src=\"https://colab.research.google.com/assets/colab-badge.svg\" alt=\"Open In Colab\"/></a>"
      ]
    },
    {
      "cell_type": "markdown",
      "source": [
        "List vs numpy\n"
      ],
      "metadata": {
        "id": "OnRLXYKBit3o"
      }
    },
    {
      "cell_type": "code",
      "source": [
        "import numpy as np"
      ],
      "metadata": {
        "id": "xcMxDIkAixkZ"
      },
      "execution_count": 1,
      "outputs": []
    },
    {
      "cell_type": "code",
      "source": [
        "from time import process_time\n",
        "python_list=[i for i in range(10000)]\n",
        "start=process_time()\n",
        "python_list=[i+5 for i in python_list]\n",
        "end=process_time()\n",
        "print(end-start)"
      ],
      "metadata": {
        "colab": {
          "base_uri": "https://localhost:8080/"
        },
        "id": "mPHwd8rXi7-8",
        "outputId": "eedc57c6-7be4-4797-f0e2-7abf3f30c563"
      },
      "execution_count": 2,
      "outputs": [
        {
          "output_type": "stream",
          "name": "stdout",
          "text": [
            "0.000917075000000267\n"
          ]
        }
      ]
    },
    {
      "cell_type": "code",
      "source": [
        "np_array=np.array([i for i in range(10000)])\n",
        "start=process_time()\n",
        "np_array+=5\n",
        "end=process_time()\n",
        "print(end-start)"
      ],
      "metadata": {
        "colab": {
          "base_uri": "https://localhost:8080/"
        },
        "id": "F6nW58m-j9md",
        "outputId": "1b55cc73-8ce7-498a-9b59-f32494dc76ae"
      },
      "execution_count": 4,
      "outputs": [
        {
          "output_type": "stream",
          "name": "stdout",
          "text": [
            "0.0012626909999990943\n"
          ]
        }
      ]
    },
    {
      "cell_type": "markdown",
      "source": [
        "list"
      ],
      "metadata": {
        "id": "3x8DLaZToOyQ"
      }
    },
    {
      "cell_type": "code",
      "source": [
        "list1=[1,2,3,4,5]\n",
        "print(list1)\n",
        "type(list1)"
      ],
      "metadata": {
        "colab": {
          "base_uri": "https://localhost:8080/"
        },
        "id": "GbOfBuFToOGF",
        "outputId": "cfa7bcd4-8f98-4975-d702-41cdb34a39b9"
      },
      "execution_count": 5,
      "outputs": [
        {
          "output_type": "stream",
          "name": "stdout",
          "text": [
            "[1, 2, 3, 4, 5]\n"
          ]
        },
        {
          "output_type": "execute_result",
          "data": {
            "text/plain": [
              "list"
            ]
          },
          "metadata": {},
          "execution_count": 5
        }
      ]
    },
    {
      "cell_type": "code",
      "source": [
        "np_array=np.array([1,1,2,3,4])\n",
        "print(np_array)\n",
        "type(np_array)"
      ],
      "metadata": {
        "colab": {
          "base_uri": "https://localhost:8080/"
        },
        "id": "gq56Lu4Vogsw",
        "outputId": "c9f5d538-125d-49eb-f875-599d884f44b5"
      },
      "execution_count": 6,
      "outputs": [
        {
          "output_type": "stream",
          "name": "stdout",
          "text": [
            "[1 1 2 3 4]\n"
          ]
        },
        {
          "output_type": "execute_result",
          "data": {
            "text/plain": [
              "numpy.ndarray"
            ]
          },
          "metadata": {},
          "execution_count": 6
        }
      ]
    },
    {
      "cell_type": "code",
      "source": [
        "print(np_array.shape)"
      ],
      "metadata": {
        "colab": {
          "base_uri": "https://localhost:8080/"
        },
        "id": "MSDuaqBHpPIX",
        "outputId": "f256d307-06c5-45ac-97f8-5d1aede3c697"
      },
      "execution_count": 7,
      "outputs": [
        {
          "output_type": "stream",
          "name": "stdout",
          "text": [
            "(5,)\n"
          ]
        }
      ]
    },
    {
      "cell_type": "code",
      "source": [
        "np=np.array([(1,2,3,4),(1,2,3,4)])\n",
        "print(np.shape)"
      ],
      "metadata": {
        "colab": {
          "base_uri": "https://localhost:8080/"
        },
        "id": "CF_gDF06pafo",
        "outputId": "c08b64ee-b8f2-4b75-ab87-10d4f0fbfd05"
      },
      "execution_count": 9,
      "outputs": [
        {
          "output_type": "stream",
          "name": "stdout",
          "text": [
            "(2, 4)\n",
            "(2, 4)\n"
          ]
        }
      ]
    },
    {
      "cell_type": "markdown",
      "source": [
        "initial placeholder in numpy arrays"
      ],
      "metadata": {
        "id": "qCqkZgQ0tOyq"
      }
    },
    {
      "cell_type": "code",
      "source": [
        "import numpy as np"
      ],
      "metadata": {
        "id": "aDZZH7VdtrjZ"
      },
      "execution_count": 15,
      "outputs": []
    },
    {
      "cell_type": "code",
      "source": [
        "x=np.zeros((4,5))\n",
        "print(x)"
      ],
      "metadata": {
        "colab": {
          "base_uri": "https://localhost:8080/"
        },
        "id": "9rpI-jD7txuB",
        "outputId": "1df24904-5eaf-4ccb-bfbd-a9f3dc76e234"
      },
      "execution_count": 16,
      "outputs": [
        {
          "output_type": "stream",
          "name": "stdout",
          "text": [
            "[[0. 0. 0. 0. 0.]\n",
            " [0. 0. 0. 0. 0.]\n",
            " [0. 0. 0. 0. 0.]\n",
            " [0. 0. 0. 0. 0.]]\n"
          ]
        }
      ]
    },
    {
      "cell_type": "code",
      "source": [
        "y=np.ones((4,5))\n",
        "print(y)"
      ],
      "metadata": {
        "colab": {
          "base_uri": "https://localhost:8080/"
        },
        "id": "YW1aX8P-t8ID",
        "outputId": "ceab24bc-2f40-4196-8ce2-c04ca08cd433"
      },
      "execution_count": 17,
      "outputs": [
        {
          "output_type": "stream",
          "name": "stdout",
          "text": [
            "[[1. 1. 1. 1. 1.]\n",
            " [1. 1. 1. 1. 1.]\n",
            " [1. 1. 1. 1. 1.]\n",
            " [1. 1. 1. 1. 1.]]\n"
          ]
        }
      ]
    },
    {
      "cell_type": "code",
      "source": [
        "z=np.full((4,5),9)\n",
        "print(z)"
      ],
      "metadata": {
        "colab": {
          "base_uri": "https://localhost:8080/"
        },
        "id": "nAkgyhQpuQKP",
        "outputId": "20baa996-423d-4dba-ac8c-f9db649bbe94"
      },
      "execution_count": 18,
      "outputs": [
        {
          "output_type": "stream",
          "name": "stdout",
          "text": [
            "[[9 9 9 9 9]\n",
            " [9 9 9 9 9]\n",
            " [9 9 9 9 9]\n",
            " [9 9 9 9 9]]\n"
          ]
        }
      ]
    },
    {
      "cell_type": "code",
      "source": [
        "a=np.eye(4)\n",
        "print(a)"
      ],
      "metadata": {
        "colab": {
          "base_uri": "https://localhost:8080/"
        },
        "id": "S1mF-NKNuXtp",
        "outputId": "722a32e6-52a3-40cd-bcf6-57fa7640020a"
      },
      "execution_count": 19,
      "outputs": [
        {
          "output_type": "stream",
          "name": "stdout",
          "text": [
            "[[1. 0. 0. 0.]\n",
            " [0. 1. 0. 0.]\n",
            " [0. 0. 1. 0.]\n",
            " [0. 0. 0. 1.]]\n"
          ]
        }
      ]
    },
    {
      "cell_type": "code",
      "source": [
        "b=np.random.random((3,4))\n",
        "print(b)"
      ],
      "metadata": {
        "colab": {
          "base_uri": "https://localhost:8080/"
        },
        "id": "7qkaUyYXvWkj",
        "outputId": "b619e16c-0fa6-4586-ca0c-b48290d284a9"
      },
      "execution_count": 20,
      "outputs": [
        {
          "output_type": "stream",
          "name": "stdout",
          "text": [
            "[[0.34400391 0.40673512 0.32499516 0.44739884]\n",
            " [0.99231259 0.80929766 0.95724823 0.05209092]\n",
            " [0.03872489 0.19553489 0.8271525  0.84946141]]\n"
          ]
        }
      ]
    },
    {
      "cell_type": "code",
      "source": [
        "c=np.random.randint(1,10,(3,4))\n",
        "print(c)"
      ],
      "metadata": {
        "colab": {
          "base_uri": "https://localhost:8080/"
        },
        "id": "xwDkaT-iviuw",
        "outputId": "87111577-0e81-496e-f978-bf2c2e4a74bf"
      },
      "execution_count": 21,
      "outputs": [
        {
          "output_type": "stream",
          "name": "stdout",
          "text": [
            "[[1 1 1 3]\n",
            " [2 7 1 1]\n",
            " [5 3 8 4]]\n"
          ]
        }
      ]
    },
    {
      "cell_type": "code",
      "source": [
        "d=np.linspace(10,30,6)\n",
        "print(d)"
      ],
      "metadata": {
        "colab": {
          "base_uri": "https://localhost:8080/"
        },
        "id": "zZUuRZWbxCQL",
        "outputId": "18688761-dfec-4e4a-bc71-4cfed2853fba"
      },
      "execution_count": 23,
      "outputs": [
        {
          "output_type": "stream",
          "name": "stdout",
          "text": [
            "[10. 14. 18. 22. 26. 30.]\n"
          ]
        }
      ]
    },
    {
      "cell_type": "code",
      "source": [
        "e=np.arange(10,30,5)\n",
        "print(e)"
      ],
      "metadata": {
        "colab": {
          "base_uri": "https://localhost:8080/"
        },
        "id": "fhQSD5X5xlrv",
        "outputId": "489b8afa-ef07-4eac-aae2-da85095e4dd0"
      },
      "execution_count": 24,
      "outputs": [
        {
          "output_type": "stream",
          "name": "stdout",
          "text": [
            "[10 15 20 25]\n"
          ]
        }
      ]
    },
    {
      "cell_type": "code",
      "source": [
        "# converting list to numpy array\n",
        "list1=[1,2,3,4]\n",
        "np_array=np.asarray(list1)\n",
        "print(np_array)\n",
        "type(np_array)"
      ],
      "metadata": {
        "colab": {
          "base_uri": "https://localhost:8080/"
        },
        "id": "OypBnqQ9yFS1",
        "outputId": "3627460d-5bbf-4d5b-a9c7-2c474823c498"
      },
      "execution_count": 25,
      "outputs": [
        {
          "output_type": "stream",
          "name": "stdout",
          "text": [
            "[1 2 3 4]\n"
          ]
        },
        {
          "output_type": "execute_result",
          "data": {
            "text/plain": [
              "numpy.ndarray"
            ]
          },
          "metadata": {},
          "execution_count": 25
        }
      ]
    },
    {
      "cell_type": "markdown",
      "source": [
        "Anaylsising the array\n"
      ],
      "metadata": {
        "id": "ovxNCaSwzPra"
      }
    },
    {
      "cell_type": "code",
      "source": [
        "f=np.random.randint(10,90,(2,3))\n",
        "print(f)"
      ],
      "metadata": {
        "colab": {
          "base_uri": "https://localhost:8080/"
        },
        "id": "1Rnntuegyp3W",
        "outputId": "94a34cf5-ec80-498b-d3b7-52f4e2dd5868"
      },
      "execution_count": 27,
      "outputs": [
        {
          "output_type": "stream",
          "name": "stdout",
          "text": [
            "[[81 15 20]\n",
            " [75 14 58]]\n",
            "[[13 69 38]\n",
            " [10 34 33]]\n"
          ]
        }
      ]
    },
    {
      "cell_type": "code",
      "source": [
        "print(f.ndim)"
      ],
      "metadata": {
        "colab": {
          "base_uri": "https://localhost:8080/"
        },
        "id": "WNy7F4Spz7BS",
        "outputId": "167215e6-e215-416a-f50e-59613e55e86f"
      },
      "execution_count": 28,
      "outputs": [
        {
          "output_type": "stream",
          "name": "stdout",
          "text": [
            "2\n"
          ]
        }
      ]
    },
    {
      "cell_type": "code",
      "source": [
        "print(f.size)\n",
        "print(f.dtype)"
      ],
      "metadata": {
        "colab": {
          "base_uri": "https://localhost:8080/"
        },
        "id": "KMJXGUDx0Oyi",
        "outputId": "50682500-c9dc-4b21-d93c-c0ec456ecf59"
      },
      "execution_count": 29,
      "outputs": [
        {
          "output_type": "stream",
          "name": "stdout",
          "text": [
            "6\n",
            "int64\n"
          ]
        }
      ]
    },
    {
      "cell_type": "markdown",
      "source": [
        "Mathematical operation on a  numpy array"
      ],
      "metadata": {
        "id": "tmuoDpB81QNi"
      }
    },
    {
      "cell_type": "code",
      "source": [
        "list1=[1,2,3,4]\n",
        "list2=[5,6,7,8]\n",
        "print(list1+list2)"
      ],
      "metadata": {
        "colab": {
          "base_uri": "https://localhost:8080/"
        },
        "id": "55e-_fdV1Ylq",
        "outputId": "0590593f-d218-43b9-8c8f-79c4cf81a021"
      },
      "execution_count": 30,
      "outputs": [
        {
          "output_type": "stream",
          "name": "stdout",
          "text": [
            "[1, 2, 3, 4, 5, 6, 7, 8]\n"
          ]
        }
      ]
    },
    {
      "cell_type": "code",
      "source": [
        "a=np.random.randint(0,10,(3,4))\n",
        "b=np.random.randint(10,30,(3,4))"
      ],
      "metadata": {
        "id": "qCUkvA9I2NgI"
      },
      "execution_count": 31,
      "outputs": []
    },
    {
      "cell_type": "code",
      "source": [
        "print(a)\n",
        "print(b)"
      ],
      "metadata": {
        "colab": {
          "base_uri": "https://localhost:8080/"
        },
        "id": "LLXbLIc42vCY",
        "outputId": "6ce20ac9-bbed-405f-bd13-ac67e6f730dc"
      },
      "execution_count": 32,
      "outputs": [
        {
          "output_type": "stream",
          "name": "stdout",
          "text": [
            "[[5 1 1 1]\n",
            " [2 4 7 6]\n",
            " [1 2 0 7]]\n",
            "[[26 16 18 20]\n",
            " [19 14 26 17]\n",
            " [13 24 11 20]]\n"
          ]
        }
      ]
    },
    {
      "cell_type": "code",
      "source": [
        "print(a+b)\n",
        "print(a-b)\n",
        "print(a/b)\n",
        "print(a*b)"
      ],
      "metadata": {
        "colab": {
          "base_uri": "https://localhost:8080/"
        },
        "id": "UxBGBSpV3iep",
        "outputId": "e5b83a5b-77b3-4fb6-d38a-5a0834cb9e3c"
      },
      "execution_count": 33,
      "outputs": [
        {
          "output_type": "stream",
          "name": "stdout",
          "text": [
            "[[31 17 19 21]\n",
            " [21 18 33 23]\n",
            " [14 26 11 27]]\n",
            "[[-21 -15 -17 -19]\n",
            " [-17 -10 -19 -11]\n",
            " [-12 -22 -11 -13]]\n",
            "[[0.19230769 0.0625     0.05555556 0.05      ]\n",
            " [0.10526316 0.28571429 0.26923077 0.35294118]\n",
            " [0.07692308 0.08333333 0.         0.35      ]]\n",
            "[[130  16  18  20]\n",
            " [ 38  56 182 102]\n",
            " [ 13  48   0 140]]\n"
          ]
        }
      ]
    },
    {
      "cell_type": "code",
      "source": [
        "a=np.random.randint(0,10,(3,3))\n",
        "b=np.random.randint(10,30,(3,3))"
      ],
      "metadata": {
        "id": "0wbvHDEt5ldg"
      },
      "execution_count": 36,
      "outputs": []
    }
  ]
}